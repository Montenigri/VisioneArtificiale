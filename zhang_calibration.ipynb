{
 "cells": [
  {
   "cell_type": "code",
   "execution_count": 10,
   "id": "e82a7c39",
   "metadata": {},
   "outputs": [
    {
     "name": "stdout",
     "output_type": "stream",
     "text": [
      "['Calibrazione\\\\daiLaboratorio\\\\checkboard\\\\test-121513.jpeg', 'Calibrazione\\\\daiLaboratorio\\\\checkboard\\\\test-121515.jpeg', 'Calibrazione\\\\daiLaboratorio\\\\checkboard\\\\test-121516.jpeg', 'Calibrazione\\\\daiLaboratorio\\\\checkboard\\\\test-121518.jpeg', 'Calibrazione\\\\daiLaboratorio\\\\checkboard\\\\test-121519.jpeg', 'Calibrazione\\\\daiLaboratorio\\\\checkboard\\\\test-121521.jpeg', 'Calibrazione\\\\daiLaboratorio\\\\checkboard\\\\test-121522.jpeg', 'Calibrazione\\\\daiLaboratorio\\\\checkboard\\\\test-121525.jpeg', 'Calibrazione\\\\daiLaboratorio\\\\checkboard\\\\test-121526.jpeg', 'Calibrazione\\\\daiLaboratorio\\\\checkboard\\\\test-12153.jpeg', 'Calibrazione\\\\daiLaboratorio\\\\checkboard\\\\test-121533.jpeg', 'Calibrazione\\\\daiLaboratorio\\\\checkboard\\\\test-121534.jpeg', 'Calibrazione\\\\daiLaboratorio\\\\checkboard\\\\test-121537.jpeg', 'Calibrazione\\\\daiLaboratorio\\\\checkboard\\\\test-121540.jpeg', 'Calibrazione\\\\daiLaboratorio\\\\checkboard\\\\test-121541.jpeg', 'Calibrazione\\\\daiLaboratorio\\\\checkboard\\\\test-121542.jpeg', 'Calibrazione\\\\daiLaboratorio\\\\checkboard\\\\test-121544.jpeg', 'Calibrazione\\\\daiLaboratorio\\\\checkboard\\\\test-121545.jpeg', 'Calibrazione\\\\daiLaboratorio\\\\checkboard\\\\test-121547.jpeg', 'Calibrazione\\\\daiLaboratorio\\\\checkboard\\\\test-121549.jpeg', 'Calibrazione\\\\daiLaboratorio\\\\checkboard\\\\test-12155.jpeg', 'Calibrazione\\\\daiLaboratorio\\\\checkboard\\\\test-121550.jpeg', 'Calibrazione\\\\daiLaboratorio\\\\checkboard\\\\test-121551.jpeg', 'Calibrazione\\\\daiLaboratorio\\\\checkboard\\\\test-121553.jpeg', 'Calibrazione\\\\daiLaboratorio\\\\checkboard\\\\test-121554.jpeg', 'Calibrazione\\\\daiLaboratorio\\\\checkboard\\\\test-121556.jpeg', 'Calibrazione\\\\daiLaboratorio\\\\checkboard\\\\test-121557.jpeg', 'Calibrazione\\\\daiLaboratorio\\\\checkboard\\\\test-121559.jpeg', 'Calibrazione\\\\daiLaboratorio\\\\checkboard\\\\test-12156.jpeg', 'Calibrazione\\\\daiLaboratorio\\\\checkboard\\\\test-12158.jpeg', 'Calibrazione\\\\daiLaboratorio\\\\checkboard\\\\test-121612.jpeg', 'Calibrazione\\\\daiLaboratorio\\\\checkboard\\\\test-121619.jpeg', 'Calibrazione\\\\daiLaboratorio\\\\checkboard\\\\test-121622.jpeg', 'Calibrazione\\\\daiLaboratorio\\\\checkboard\\\\test-121625.jpeg', 'Calibrazione\\\\daiLaboratorio\\\\checkboard\\\\test-121628.jpeg', 'Calibrazione\\\\daiLaboratorio\\\\checkboard\\\\test-121630.jpeg', 'Calibrazione\\\\daiLaboratorio\\\\checkboard\\\\test-121632.jpeg', 'Calibrazione\\\\daiLaboratorio\\\\checkboard\\\\test-121634.jpeg', 'Calibrazione\\\\daiLaboratorio\\\\checkboard\\\\test-121637.jpeg', 'Calibrazione\\\\daiLaboratorio\\\\checkboard\\\\test_12152.jpeg']\n"
     ]
    }
   ],
   "source": [
    "import glob\n",
    "import cv2 \n",
    "path_images = \"Calibrazione\\daiLaboratorio\\checkboard\"\n",
    "images_list = glob.glob(f'{path_images}\\*.jpeg')\n",
    "for im in images_list:\n",
    "    i = cv2.imread(im)\n",
    "    cv2.imshow(im,i)\n",
    "    cv2.waitKey(0)\n",
    "    cv2.destroyAllWindows()\n",
    "    \n",
    "\n",
    "\n",
    "print(images_list)"
   ]
  },
  {
   "cell_type": "code",
   "execution_count": 15,
   "id": "7b8cc67c",
   "metadata": {},
   "outputs": [
    {
     "ename": "AttributeError",
     "evalue": "'NoneType' object has no attribute 'shape'",
     "output_type": "error",
     "traceback": [
      "\u001b[1;31m---------------------------------------------------------------------------\u001b[0m",
      "\u001b[1;31mAttributeError\u001b[0m                            Traceback (most recent call last)",
      "Cell \u001b[1;32mIn[15], line 51\u001b[0m\n\u001b[0;32m     47\u001b[0m objp, img_points, world_points \u001b[39m=\u001b[39m find_correspondences(path_images, images_list, patternSize)\n\u001b[0;32m     50\u001b[0m im \u001b[39m=\u001b[39m cv2\u001b[39m.\u001b[39mimread(path_images\u001b[39m+\u001b[39mimages_list[\u001b[39m0\u001b[39m])\n\u001b[1;32m---> 51\u001b[0m retval, K_opencv, distCoeffs, rvecs, tvecs \u001b[39m=\u001b[39m cv2\u001b[39m.\u001b[39mcalibrateCamera(world_points, img_points, im\u001b[39m.\u001b[39;49mshape[\u001b[39m0\u001b[39m:\u001b[39m2\u001b[39m],\u001b[39mNone\u001b[39;00m, \u001b[39mNone\u001b[39;00m, flags \u001b[39m=\u001b[39m cv2\u001b[39m.\u001b[39mCALIB_ZERO_TANGENT_DIST\u001b[39m+\u001b[39mcv2\u001b[39m.\u001b[39mCALIB_FIX_S1_S2_S3_S4\u001b[39m+\u001b[39mcv2\u001b[39m.\u001b[39mCALIB_FIX_K1\u001b[39m+\u001b[39mcv2\u001b[39m.\u001b[39mCALIB_FIX_K2\u001b[39m+\u001b[39mcv2\u001b[39m.\u001b[39mCALIB_FIX_K3\u001b[39m+\u001b[39mcv2\u001b[39m.\u001b[39mCALIB_FIX_K4\u001b[39m+\u001b[39mcv2\u001b[39m.\u001b[39mCALIB_FIX_K5\u001b[39m+\u001b[39mcv2\u001b[39m.\u001b[39mCALIB_FIX_K6)\n\u001b[0;32m     52\u001b[0m \u001b[39mprint\u001b[39m(\u001b[39m\"\u001b[39m\u001b[39mK With opencv\u001b[39m\u001b[39m\"\u001b[39m)\n\u001b[0;32m     53\u001b[0m \u001b[39mprint\u001b[39m(K_opencv)\n",
      "\u001b[1;31mAttributeError\u001b[0m: 'NoneType' object has no attribute 'shape'"
     ]
    }
   ],
   "source": [
    "import numpy as np\n",
    "import cv2\n",
    "import math\n",
    "import glob\n",
    "\n",
    "\n",
    "\n",
    "def find_correspondences(path_images, images_list, patternSize):\n",
    "    criteria = (cv2.TERM_CRITERIA_EPS + cv2.TERM_CRITERIA_MAX_ITER, 30, 0.001)\n",
    "    \n",
    "    img_points = [] #2D image points\n",
    "    objp = np.zeros((1,patternSize[0] * patternSize[1], 3), np.float32)\n",
    "    objp[0,:,:2] = np.mgrid[0:patternSize[0], 0:patternSize[1]].T.reshape(-1, 2)\n",
    "    world_points  = []\n",
    "\n",
    "    for im_name in images_list:\n",
    "        im = cv2.imread(im_name)  \n",
    "        im_gray = cv2.cvtColor(im,cv2.COLOR_BGR2GRAY)\n",
    "\n",
    "        retval, corners = cv2.findChessboardCorners(im, patternSize, cv2.CALIB_CB_ADAPTIVE_THRESH + cv2.CALIB_CB_FAST_CHECK + cv2.CALIB_CB_NORMALIZE_IMAGE)\n",
    "        if retval:\n",
    "            world_points.append(objp)\n",
    "\n",
    "            # refining pixel coordinates for given 2d points.\n",
    "            corners = cv2.cornerSubPix(im_gray, corners, (11,11),(-1,-1), criteria)\n",
    "            corners = np.squeeze(corners)\n",
    "            img_points.append(corners)\n",
    "\n",
    "            # Draw and display the corners\n",
    "            im = cv2.drawChessboardCorners(im, patternSize, corners, retval)\n",
    "            cv2.imshow(\"im\", im)\n",
    "            cv2.waitKey(0)\n",
    "            cv2.destroyAllWindows()\n",
    "    return objp, img_points,world_points\n",
    "\n",
    "\n",
    "#Set images \n",
    "#np.set_printoptions(precision=2, suppress=True)\n",
    "\n",
    "\n",
    "path_images = \"Calibrazione\\daiLaboratorio\\checkboard\"\n",
    "images_list = glob.glob(f'{path_images}\\*.jpeg')\n",
    "\n",
    "patternSize = (6, 9) #rows xcols\n",
    " \n",
    "#Find correspondences\n",
    "objp, img_points, world_points = find_correspondences(path_images, images_list, patternSize)\n",
    "  \n",
    "\n",
    "im = cv2.imread(path_images+images_list[0])\n",
    "retval, K_opencv, distCoeffs, rvecs, tvecs = cv2.calibrateCamera(world_points, img_points, im.shape[0:2],None, None, flags = cv2.CALIB_ZERO_TANGENT_DIST+cv2.CALIB_FIX_S1_S2_S3_S4+cv2.CALIB_FIX_K1+cv2.CALIB_FIX_K2+cv2.CALIB_FIX_K3+cv2.CALIB_FIX_K4+cv2.CALIB_FIX_K5+cv2.CALIB_FIX_K6)\n",
    "print(\"K With opencv\")\n",
    "print(K_opencv)\n",
    "\n",
    "\n",
    "#Test homographies\n",
    "#test(path_images, images_list, patternSize, estimated_H, objp, img_points)\n"
   ]
  },
  {
   "cell_type": "code",
   "execution_count": null,
   "id": "f95dba4e",
   "metadata": {},
   "outputs": [],
   "source": []
  },
  {
   "cell_type": "code",
   "execution_count": null,
   "id": "fa550eb7",
   "metadata": {},
   "outputs": [],
   "source": []
  }
 ],
 "metadata": {
  "kernelspec": {
   "display_name": "Python 3 (ipykernel)",
   "language": "python",
   "name": "python3"
  },
  "language_info": {
   "codemirror_mode": {
    "name": "ipython",
    "version": 3
   },
   "file_extension": ".py",
   "mimetype": "text/x-python",
   "name": "python",
   "nbconvert_exporter": "python",
   "pygments_lexer": "ipython3",
   "version": "3.10.10"
  }
 },
 "nbformat": 4,
 "nbformat_minor": 5
}
