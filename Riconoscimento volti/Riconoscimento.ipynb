{
 "cells": [
  {
   "attachments": {},
   "cell_type": "markdown",
   "metadata": {},
   "source": [
    "Per il riconoscimento facciale abbiamo bisogno di seguire i passi indicati nel paper firmato da Turk e Pentland:\n",
    "- Aquisire un dataset di facce\n",
    "- Calcolare le eigenfaces dal set di apprendimento conservando solo le M immagini che hanno gli autovalori più alti. Queste M facce rappresentano lo spazio delle facce, questo spazio può essere man mano aggiornato\n",
    "- Calcolare la distribuzione M dimensionale per ogni individuo proiettando la faccia sullo spazio delle facce\n",
    "\n",
    "Una volta inizializzato il sistema, possiamo procedere in questo modo:\n",
    "- Calcolare un set di pesi in base all'immagine fornita e gli autovalori proiettando l'immagine su ogni eigenfaces \n",
    "- Determinare se l'immagine è effettivamente un volto controllando che sia abbastanza vicino allo spazio delle facce\n",
    "- Calcolare i pesi in modo da definire se è una persona che è già segnata o meno\n",
    "- Opzionalmente si possono aggiornare pesi e spazio delle facce "
   ]
  },
  {
   "cell_type": "markdown",
   "metadata": {},
   "source": []
  }
 ],
 "metadata": {
  "language_info": {
   "name": "python"
  },
  "orig_nbformat": 4
 },
 "nbformat": 4,
 "nbformat_minor": 2
}
