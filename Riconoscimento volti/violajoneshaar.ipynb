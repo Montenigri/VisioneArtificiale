{
 "cells": [
  {
   "cell_type": "code",
   "execution_count": 1,
   "metadata": {},
   "outputs": [],
   "source": [
    "import cv2\n",
    "\n",
    "faces_xml = 'haarcascade_frontalface_alt.xml'\n",
    "eyes_xml = 'haarcascade_eye_tree_eyeglasses.xml'\n",
    "face_cascade = cv2.CascadeClassifier()\n",
    "eyes_cascade = cv2.CascadeClassifier()\n",
    "\n",
    "# -- 1. Load the cascades\n",
    "if not face_cascade.load(faces_xml):\n",
    "    print('--(!)Error loading face cascade')\n",
    "    exit(0)\n",
    "    \n",
    "if not eyes_cascade.load(eyes_xml):\n",
    "    print('--(!)Error loading eyes cascade')\n",
    "    exit(0)\n",
    "    \n",
    "# -- 2. Read the video stream\n",
    "camera = cv2.VideoCapture(0)\n",
    "if not camera.isOpened:\n",
    "    print('--(!)Error opening video capture')\n",
    "    exit(0)\n",
    "    \n",
    "while True:\n",
    "    ret, frame = camera.read()\n",
    "    if frame is None:\n",
    "        print('--(!) No captured frame -- Break!')\n",
    "        break\n",
    "    \n",
    "    frame_gray = cv2.cvtColor(frame, cv2.COLOR_BGR2GRAY)\n",
    "    #frame_gray = cv2.equalizeHist(frame_gray)\n",
    "    # -- Detect faces\n",
    "    faces = face_cascade.detectMultiScale(frame_gray)\n",
    "    for (x, y, w, h) in faces:\n",
    "        center = (x + w // 2, y + h // 2)   \n",
    "        faceROI = frame_gray[y:y + h, x:x + w]\n",
    "        \n",
    "        # -- In each face, detect eyes\n",
    "        eyes = eyes_cascade.detectMultiScale(faceROI)\n",
    "        for (x2, y2, w2, h2) in eyes:\n",
    "            eye_center = (x + x2 + w2 // 2, y + y2 + h2 // 2)\n",
    "            radius = int(round((w2 + h2) * 0.25))\n",
    "            frame = cv2.circle(frame, eye_center, radius, (255, 0, 0), 4)\n",
    "        frame = cv2.rectangle(frame, (x, y), (x+w, y+h), (255, 0, 255), 4)\n",
    "    cv2.imshow('Capture - Face detection', frame)\n",
    "    if cv2.waitKey(10) == 27:\n",
    "        break"
   ]
  }
 ],
 "metadata": {
  "kernelspec": {
   "display_name": "Python 3",
   "language": "python",
   "name": "python3"
  },
  "language_info": {
   "codemirror_mode": {
    "name": "ipython",
    "version": 3
   },
   "file_extension": ".py",
   "mimetype": "text/x-python",
   "name": "python",
   "nbconvert_exporter": "python",
   "pygments_lexer": "ipython3",
   "version": "3.9.13"
  },
  "orig_nbformat": 4
 },
 "nbformat": 4,
 "nbformat_minor": 2
}
