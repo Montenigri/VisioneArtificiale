{
 "cells": [
  {
   "attachments": {},
   "cell_type": "markdown",
   "metadata": {},
   "source": [
    "List of import"
   ]
  },
  {
   "cell_type": "code",
   "execution_count": null,
   "metadata": {},
   "outputs": [],
   "source": [
    "import cv2\n",
    "import matplotlib.pyplot as plt\n",
    "import numpy as np\n",
    "import math \n"
   ]
  },
  {
   "attachments": {},
   "cell_type": "markdown",
   "metadata": {},
   "source": [
    "Creation of a Gaussian Filter\n",
    "\n",
    "The Gaussian filter is a type of filter that applies a Gaussian distribution to an image through convolution.\n",
    "\n",
    "To create a Gaussian filter, we first apply the Gaussian formula including the required values of sigma and the size of our mask. This is implemented through the functions *gauss*, which returns the Gaussian function given sigma and x dimensions, and *createMask*, which returns the mask with the required values given the mask dimensions and sigma. At this point, the *gaussianFilter* function, which takes the image, mask size, and sigma as input, applies the filter through a 2D convolution.\n",
    "\n"
   ]
  },
  {
   "cell_type": "code",
   "execution_count": null,
   "metadata": {},
   "outputs": [],
   "source": [
    "#Gaussian filter\n",
    "def gauss(sigma,x):\n",
    "    ''' \n",
    "    Input: sigma: Value of sigma for Gauss function, x: Centered value to apply Gauss\n",
    "\n",
    "    Output: Gauss function applied to sigma and x\n",
    "    '''\n",
    "    gauss = 1/(math.sqrt(2*math.pi)*sigma)*math.e**(-(x**2/(2*sigma**2)))\n",
    "    return gauss\n",
    "\n",
    "def createMask(maskSize, sigma):\n",
    "    ''' \n",
    "    Input: maskSize: Dimension for the mask, sigma: Value of sigma for Gauss function\n",
    "\n",
    "    Output: Mask \n",
    "    '''\n",
    "    mask = np.zeros([maskSize + 1, maskSize +1], dtype = float)\n",
    "    centre = int(maskSize / 2) + 1\n",
    "    for i in range(1, maskSize +1):\n",
    "        for j in range(1, maskSize +1):\n",
    "            dist = np.sqrt(np.power(abs(i-centre),2)+np.power(abs(j-centre),2))\n",
    "            mask[i][j] = gauss(sigma, dist)\n",
    "    return mask\n",
    "\n",
    "\n",
    "def gaussianFilter(img = cv2.imread(noisyImgs[1],0), maskSize = 3, sigma = 15):\n",
    "    mask = createMask(maskSize, sigma)\n",
    "    conv=cv2.filter2D(img, ddepth=-1, kernel=mask)\n",
    "    #plt.figure()\n",
    "    #plt.imshow(conv,cmap=\"gray\")\n",
    "    return conv\n",
    "\n"
   ]
  },
  {
   "attachments": {},
   "cell_type": "markdown",
   "metadata": {},
   "source": [
    "Creation of a Median Filter\n",
    "\n",
    "The median filter is a filter that, by averaging the pixels in the surrounding area and the pixel under consideration, reduces impulsive noise or other irregular noise patterns.\n",
    "\n",
    "The median filter is simpler to implement than the Gaussian filter, as it takes portions of the image of the kernel size and, after vectorizing the portion, calculates the median and puts it in the reconstructed image at the i-j-th position."
   ]
  },
  {
   "cell_type": "code",
   "execution_count": null,
   "metadata": {},
   "outputs": [],
   "source": [
    "def medianFilter(img =cv2.imread(noisyImgs[5],0) , maskSize = 3):\n",
    "    m, n = np.shape(img)\n",
    "    median = np.zeros_like(img)\n",
    "    for i in range(1,m-1):\n",
    "      for j in range (1,n-1):\n",
    "         l = img[i:i + maskSize, j:j + maskSize].ravel()\n",
    "         median[i,j] = np.mean(l)\n",
    "    #plt.figure()\n",
    "    #plt.imshow(median,cmap=\"gray\")\n",
    "    return median"
   ]
  },
  {
   "attachments": {},
   "cell_type": "markdown",
   "metadata": {},
   "source": [
    "MRF Implementation for Denoising Filters\n",
    "\n",
    "The proposed MRF implementation uses convolution to search for the penalty associated with each pixel. This solution allows for the calculation of all pixel penalties in a single operation, reducing the need for loops. This operation is performed for all color intensities in the channel (in the case study, only grayscale) and returns a three-dimensional array with dimensions of 256 x height x width. For each pixel combination of a height and width position, we need to find the minimum value. A future implementation involves a C-written function to improve performance, as they are currently too dependent on double for loops.\n",
    "\n",
    "The energy matrix of the data and the penalty energy matrix are then added together according to the algorithm.\n",
    "\n",
    "The *denoiseImage* function takes the image, a weight for the penalties, and an exponent for the matrix as input.\n",
    "\n",
    "A working copy of the image, an intensity array, and a mask are then created. The mask is then multiplied by WEp (Weight Energy Penalty).\n",
    "\n",
    "For each of the grayscale intensities, a plane of a three-dimensional matrix is created, proposing the current intensity. Once all the proposals are collected, the best energy of each pixel is chosen.\n",
    "\n",
    "A future implementation can take into account load balancing across different processors as the search for minimum energy is independent."
   ]
  },
  {
   "cell_type": "code",
   "execution_count": null,
   "metadata": {},
   "outputs": [],
   "source": [
    "def denoiseImage(X, WEp=0.3, exp=0.9):\n",
    "  ''' \n",
    "  input: X np array for an image, iter int for number of iteration, WEp weight for data penalty\n",
    "\n",
    "  output: Denoised imaged\n",
    "\n",
    "  '''\n",
    "  Y = np.copy(X)\n",
    "  intesities = np.arange(260)\n",
    "  mask = np.array([[0,1,0],[1,0,1],[0,1,0]])\n",
    "  mask = mask * WEp\n",
    "\n",
    "  energyMatrix = []\n",
    "\n",
    "  for i in intesities:\n",
    "    matrix = Y-i\n",
    "    conv = cv2.filter2D(matrix, ddepth=-1, kernel=mask)\n",
    "    tryIntensityEp = conv\n",
    "    tryIntensityEp = np.power(tryIntensityEp,exp)\n",
    "    tryIntensityEd = matrix**2\n",
    "    sum = tryIntensityEp + tryIntensityEd\n",
    "    energyMatrix.append(sum)\n",
    "  \n",
    "  energyMatrix = np.asarray(energyMatrix)\n",
    "   \n",
    "\n",
    "  #questo è ok perché prendiamo l'indice che ha come significato l'intensità di colore\n",
    "  x,y,z = np.shape(energyMatrix)\n",
    "  for i in range(y):\n",
    "    for j in range(z):\n",
    "      Y[i,j] = np.argmin(energyMatrix[:,i,j])\n",
    "      #Possibile ottimizzazione: scrivere una funzione che prende la matrice energia e la divida per il numero di processori e poi faccia multiprocessing\n",
    "  \n",
    "  energyMatrix=[]\n",
    "  #Da ottimizzare questa parte di post processing, magari usando un modulo\n",
    "  \n",
    "  return Y.astype(dtype=np.uint8)\n"
   ]
  }
 ],
 "metadata": {
  "language_info": {
   "name": "python"
  },
  "orig_nbformat": 4
 },
 "nbformat": 4,
 "nbformat_minor": 2
}
