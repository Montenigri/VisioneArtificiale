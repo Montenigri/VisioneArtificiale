{
 "cells": [
  {
   "cell_type": "code",
   "execution_count": null,
   "metadata": {},
   "outputs": [],
   "source": []
  },
  {
   "cell_type": "code",
   "execution_count": null,
   "metadata": {},
   "outputs": [],
   "source": [
    "import cv2\n",
    "import matplotlib.pyplot as plt\n",
    "import numpy as np\n",
    "import os\n",
    "import glob\n",
    "from math import log10, sqrt\n"
   ]
  },
  {
   "cell_type": "code",
   "execution_count": null,
   "metadata": {},
   "outputs": [],
   "source": [
    "#Load images\n",
    "\n",
    "snrImg = []\n",
    "snrReconstruct = []\n",
    "\n",
    "rootNoisy = \"gr5/Noisy\"\n",
    "noisyImgs = glob.glob(f\"{rootNoisy}/*.bmp\") + glob.glob(f\"{rootNoisy}/*.jpg\") \n",
    "\n",
    "rootOriginal = \"gr5/Original\"\n",
    "originalImgs = glob.glob(f\"{rootOriginal}/*.bmp\") + glob.glob(f\"{rootOriginal}/*.jpg\")\n",
    "\n",
    "originalImgs.sort()\n",
    "noisyImgs.sort()"
   ]
  },
  {
   "cell_type": "code",
   "execution_count": null,
   "metadata": {},
   "outputs": [],
   "source": [
    "#presa un immagine definisco i tipi di rumore\n",
    "\n",
    "img = cv2.imread(originalImgs[1],0)\n",
    "np.random.seed(42)\n",
    "\n",
    "#Rumore gaussiano\n",
    "noise = np.random.normal(size=img.shape)\n",
    "imgNoisyGauss = img + noise\n",
    "imgNoisyGauss = cv2.normalize(imgNoisyGauss, None, 0, 255, cv2.NORM_MINMAX, cv2.CV_8U)\n",
    "\n",
    "histOrig, bins = np.histogram(img.ravel(), bins=256, range=(0, 255))\n",
    "\n",
    "histNoise, bins = np.histogram(imgNoisyGauss.ravel(), bins=256, range=(0, 255))\n",
    "\n",
    "histNoiseOnlyGauss = histNoise - histOrig\n",
    "\n",
    "#Rumore uniforme\n",
    "low = 0\n",
    "high = 255\n",
    "noise = np.random.uniform(low, high, img.shape)\n",
    "#noise = np.random.rand(*img.shape) * 255\n",
    "imgNoisyUni = img + noise\n",
    "imgNoisyUni = cv2.normalize(imgNoisyUni, None, 0, 255, cv2.NORM_MINMAX, cv2.CV_8U)\n",
    "\n",
    "histNoise, bins = np.histogram(imgNoisyUni.ravel(), bins=256, range=(0, 255))\n",
    "\n",
    "histNoiseOnlyUnif = histNoise - histOrig\n",
    "\n",
    "#Rumore sale e pepe\n",
    "x,y = img.shape\n",
    "noise = np.random.rand(x,y)*255\n",
    "salt = noise > 240\n",
    "pepper = noise < 15\n",
    "imgNoisySandP = img.copy()\n",
    "imgNoisySandP[salt] = 255\n",
    "imgNoisySandP[pepper] = 0\n",
    "imgNoisySandP = cv2.normalize(imgNoisySandP, None, 0, 255, cv2.NORM_MINMAX, cv2.CV_8U)\n",
    "\n",
    "histNoise, bins = np.histogram(imgNoisySandP.ravel(), bins=256, range=(0, 255))\n",
    "\n",
    "histNoiseOnlySandP = histNoise - histOrig\n",
    "\n",
    "#matplot delle immagini con istogrammi\n",
    "fig, axes = plt.subplots(4,2,figsize=(7,7))\n",
    "fig.tight_layout()\n",
    "axes[0][0].imshow(img, cmap=\"gray\")\n",
    "axes[0][0].set_title(f\"Immagine originale\")\n",
    "\n",
    "axes[0][1].hist(img.ravel(),256,[0,256])\n",
    "axes[0][1].set_title(f\"Istogramma immagine originale\")\n",
    "\n",
    "axes[1][0].imshow(imgNoisyGauss, cmap=\"gray\")\n",
    "axes[1][0].set_title(f\"Immagine rumorosa gauss\")\n",
    "\n",
    "axes[1][1].hist(histNoiseOnlyGauss,256,[0,256])\n",
    "axes[1][1].set_title(f\"Istogramma rumore gauss\")\n",
    "\n",
    "axes[2][0].imshow(imgNoisyUni, cmap=\"gray\")\n",
    "axes[2][0].set_title(f\"Immagine rumorosa uniforme \")\n",
    "\n",
    "axes[2][1].hist(histNoiseOnlyUnif,256,[0,256])\n",
    "axes[2][1].set_title(f\"Istogramma rumore uniforme \")\n",
    "\n",
    "axes[3][0].imshow(imgNoisySandP, cmap=\"gray\")\n",
    "axes[3][0].set_title(f\"Immagine rumorosa sale e pepe \")\n",
    "\n",
    "axes[3][1].hist(histNoiseOnlySandP,256,[0,256])\n",
    "axes[3][1].set_title(f\"Istogramma rumore sale e pepe \")\n",
    "\n",
    "plt.show()"
   ]
  },
  {
   "cell_type": "code",
   "execution_count": 89,
   "metadata": {},
   "outputs": [],
   "source": [
    "def denoiseImage(X, iter=10, WEd=1, WEp=1, exp=1):\n",
    "  ''' \n",
    "  input: X np array for an image, iter int for number of iteration, WEd weight for data energy, WEp weight for data penalty\n",
    "\n",
    "  output: Denoised imaged\n",
    "  '''\n",
    "  m, n = np.shape(X)\n",
    "  Y = np.copy(X).astype(dtype=float)\n",
    "  Ep = np.zeros_like(X)\n",
    "  intesities = np.arange(256)\n",
    "\n",
    "  for iteration in range(iter):\n",
    "  \n",
    "    print(f'Iteration in progress: {iteration+1}/{iter}               ', end=\"\\r\")\n",
    "    \n",
    "    #Fare quattro matrici (una per pixel in cui si va a finire)\n",
    "    #poi si somma il pixel interessato moltiplicato per il coefficente\n",
    "    for i in range(1,m-1):\n",
    "      for j in range (1,n-1):\n",
    "        Ep[i][j] = ( np.power(abs(Y[i-1][j] - Y[i][j]),exp) +  np.power(abs(Y[i][j-1] - Y[i][j]),exp ) +  np.power(abs(Y[i+1][j]- Y[i][j]),exp ) +  np.power(abs(Y[i][j+1]- Y[i][j]) , exp ) ) *WEp\n",
    "    \n",
    "    Ed = np.copy(X).astype(dtype=float)\n",
    "    Ed = np.abs(Y - X)*WEd\n",
    "    EpEd = np.add(Ep, Ed)\n",
    "      \n",
    "    for i in range(1,m-1):\n",
    "      for j in range (1,n-1):\n",
    "        Epl = np.zeros_like(intesities)\n",
    "        Edl = np.zeros_like(intesities)\n",
    "        #abs distanza elevato ad un numero minore di 1\n",
    "        Epl = ( np.power(abs(intesities - Y[i-1,j]),exp) + np.power(abs(intesities - Y[i,j-1]),exp) + np.power(abs(intesities - Y[i+1,j]),exp) +np.power(abs(intesities - Y[i,j+1]),exp) ) *WEp\n",
    "        #norma euclidea\n",
    "        Edl = np.abs(intesities - X[i,j])*WEd\n",
    "\n",
    "        energy = Epl + Edl\n",
    "        minEnergy = np.min(energy)\n",
    "        minIndex = np.argmin(energy)\n",
    "        if minEnergy < EpEd[i,j]:\n",
    "              Y[i,j] = (intesities[minIndex])\n",
    "              EpEd[i,j] = minEnergy\n",
    "        '''\n",
    "        high = 255\n",
    "        low = 0\n",
    "        while low <= high:\n",
    "          mid = (high + low) // 2\n",
    "          Epl = float(((Y[i-1,j]- mid)**2) + ((Y[i,j-1]- mid)**2)+((Y[i+1,j]- mid)**2)+ ((Y[i,j+1]- mid)**2)) * WEp\n",
    "          Edl = float( (X[i,j] - mid))*WEd\n",
    "          energy = Epl + Edl\n",
    "          if energy < EpEd[i,j]:\n",
    "              Y[i,j] = mid\n",
    "              EpEd[i,j] = energy\n",
    "          if Epl < Ep[i,j]:\n",
    "            high = mid - 1\n",
    "          else:\n",
    "            low = mid + 1\n",
    "          '''\n",
    "\n",
    "  return Y.astype(dtype=int)\n"
   ]
  },
  {
   "cell_type": "code",
   "execution_count": 111,
   "metadata": {},
   "outputs": [
    {
     "name": "stdout",
     "output_type": "stream",
     "text": [
      "image#:0                    \n",
      "Iteration in progress: 10/10               \r"
     ]
    },
    {
     "data": {
      "text/plain": [
       "'\\nfig, axes = plt.subplots(3,1,figsize=(10,10))\\nfig.tight_layout()\\naxes[0].imshow(imgOriginal,cmap=\"gray\")\\naxes[0].set_title(\\'Original Image\\')\\naxes[1].imshow(imgNoisy,cmap=\"gray\")\\naxes[1].set_title(\\'Noisy Image\\')\\naxes[2].imshow(imgReconstructed, cmap=\"gray\")\\naxes[2].set_title(\\'Denoised Image\\')\\nplt.show()\\n'"
      ]
     },
     "execution_count": 111,
     "metadata": {},
     "output_type": "execute_result"
    }
   ],
   "source": [
    "reconstructedImgs = []\n",
    "#for i in range(len(originalImgs)):\n",
    "for i in range(1):\n",
    "    print(f\"image#:{i}                    \")\n",
    "    imgOriginal = cv2.imread(originalImgs[i],0)\n",
    "    imgNoisy = cv2.imread(noisyImgs[i],0)\n",
    "    reconstructedImgs.append(denoiseImage(imgNoisy, exp = 0.9 ,iter = 10, WEd=0.05, WEp=0.6))\n",
    "'''\n",
    "fig, axes = plt.subplots(3,1,figsize=(10,10))\n",
    "fig.tight_layout()\n",
    "axes[0].imshow(imgOriginal,cmap=\"gray\")\n",
    "axes[0].set_title('Original Image')\n",
    "axes[1].imshow(imgNoisy,cmap=\"gray\")\n",
    "axes[1].set_title('Noisy Image')\n",
    "axes[2].imshow(imgReconstructed, cmap=\"gray\")\n",
    "axes[2].set_title('Denoised Image')\n",
    "plt.show()\n",
    "'''"
   ]
  },
  {
   "cell_type": "code",
   "execution_count": 113,
   "metadata": {},
   "outputs": [
    {
     "name": "stdout",
     "output_type": "stream",
     "text": [
      "Image#:0 \n",
      "    PSNR from original to noisy: 28.08 dB\n",
      "    PSNR from original to denoised: 23.287 dB\n"
     ]
    }
   ],
   "source": [
    "\n",
    "def PSNR(x1, x2):\n",
    "    mse = np.mean((x1 - x2) ** 2)\n",
    "    if(mse == 0):  \n",
    "        return 100\n",
    "    max_pixel = 255.0\n",
    "    psnr = 20 * log10(max_pixel / sqrt(mse))\n",
    "    return psnr\n",
    "\n",
    "for i in range(len(reconstructedImgs)):\n",
    "    imgOriginal = cv2.imread(originalImgs[i],0)\n",
    "    imgNoisy = cv2.imread(noisyImgs[i],0)\n",
    "    PSNROriginalNoisy = PSNR(imgOriginal, imgNoisy)\n",
    "    PSNROriginalyDenoised = PSNR(imgOriginal, reconstructedImgs[i])\n",
    "    print(f\"Image#:{i} \\n    PSNR from original to noisy: {round(PSNROriginalNoisy,3)} dB\\n    PSNR from original to denoised: {round(PSNROriginalyDenoised,3)} dB\")\n",
    "\n"
   ]
  },
  {
   "cell_type": "code",
   "execution_count": 92,
   "metadata": {},
   "outputs": [],
   "source": [
    "for i in range(len(reconstructedImgs)):\n",
    "\n",
    "    cv2.imwrite(f\"denoisedImages/DenoisedImage#{i}.jpeg\",reconstructedImgs[i])\n"
   ]
  }
 ],
 "metadata": {
  "kernelspec": {
   "display_name": "Python 3",
   "language": "python",
   "name": "python3"
  },
  "language_info": {
   "codemirror_mode": {
    "name": "ipython",
    "version": 3
   },
   "file_extension": ".py",
   "mimetype": "text/x-python",
   "name": "python",
   "nbconvert_exporter": "python",
   "pygments_lexer": "ipython3",
   "version": "3.10.11"
  },
  "orig_nbformat": 4
 },
 "nbformat": 4,
 "nbformat_minor": 2
}
