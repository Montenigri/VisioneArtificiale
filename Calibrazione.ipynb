{
 "cells": [
  {
   "attachments": {},
   "cell_type": "markdown",
   "metadata": {},
   "source": [
    "I passaggi da effettuare sono\n",
    "- Corrispondenza punti 2D e 3D\n",
    "- Trovare la matrice P\n",
    "- Usare fattorizzazione RQ (Variante della fattorizzazione QR)\n",
    "- Trovare K che è la matrice R della fattorizzazione precedente\n",
    "- Mentre la matrice R di rotazione (da non confondere con la R di RQ) sarà la matrice Q di RQ\n",
    "- Trovare t vettore colonna della traslazione"
   ]
  },
  {
   "attachments": {},
   "cell_type": "markdown",
   "metadata": {},
   "source": [
    "Import di tutte le librerie necessarie\n",
    "Usiamo numpy per la gestione delle matrici generate dalle immagini e math per fare i calcoli "
   ]
  },
  {
   "cell_type": "code",
   "execution_count": null,
   "metadata": {},
   "outputs": [],
   "source": [
    "import numpy\n",
    "import math\n",
    "import cv2"
   ]
  }
 ],
 "metadata": {
  "language_info": {
   "name": "python"
  },
  "orig_nbformat": 4
 },
 "nbformat": 4,
 "nbformat_minor": 2
}
