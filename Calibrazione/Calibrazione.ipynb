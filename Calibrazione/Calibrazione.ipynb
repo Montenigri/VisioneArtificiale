{
 "cells": [
  {
   "attachments": {},
   "cell_type": "markdown",
   "metadata": {},
   "source": [
    "I passaggi da effettuare sono\n",
    "- Corrispondenza punti 2D e 3D\n",
    "- Trovare la matrice P\n",
    "- Usare fattorizzazione RQ (Variante della fattorizzazione QR)\n",
    "- Trovare K che è la matrice R della fattorizzazione precedente\n",
    "- Mentre la matrice R di rotazione (da non confondere con la R di RQ) sarà la matrice Q di RQ\n",
    "- Trovare t vettore colonna della traslazione"
   ]
  },
  {
   "attachments": {},
   "cell_type": "markdown",
   "metadata": {},
   "source": [
    "Import di tutte le librerie necessarie\n",
    "Usiamo numpy per la gestione delle matrici generate dalle immagini e math per fare i calcoli "
   ]
  },
  {
   "cell_type": "code",
   "execution_count": 1,
   "metadata": {},
   "outputs": [],
   "source": [
    "import numpy as np\n",
    "import math\n",
    "import cv2"
   ]
  },
  {
   "attachments": {},
   "cell_type": "markdown",
   "metadata": {},
   "source": [
    "Iniziamo mappando i punti 3D nello spazio 2D attraverso dei vettori di punti.\n",
    "Questi punti sono stati definiti dalla professoressa"
   ]
  },
  {
   "cell_type": "code",
   "execution_count": 3,
   "metadata": {},
   "outputs": [],
   "source": [
    "def define_Points():\n",
    "    n_corners = 14\n",
    "\n",
    "    #3D points\n",
    "    objp = np.zeros((n_corners,3), np.float32)\n",
    "\n",
    "    #first face\n",
    "    objp[1,:] =[7, 0, 0]\n",
    "    objp[2,:] =[7, 0, 7]\n",
    "    objp[3,:] =[0, 0, 7]\n",
    "    objp[4,:] =[3, 0, 4]\n",
    "\n",
    "    #second face\n",
    "    objp[5,:] =[0, 7, 0]\n",
    "    objp[6,:] =[0, 7, 7]\n",
    "    objp[7,:] =[0, 4, 4]\n",
    "\n",
    "    #top face\n",
    "    objp[8,:] =[7, 7, 7]\n",
    "    objp[9,:] =[4, 4, 7]\n",
    "\n",
    "    #additional points\n",
    "    objp[10,:] =[7, 0, 3]\n",
    "    objp[11,:] =[0, 3, 7]\n",
    "    objp[12,:] =[0, 7, 3]\n",
    "    objp[13,:] =[7, 2, 7]\n",
    "\n",
    "    #2D points\n",
    "    imgp = np.zeros((n_corners,2), np.float32)\n",
    "\n",
    "    imgp[0,:] = [103, 254]\n",
    "    imgp[1,:] = [252, 212]\n",
    "    imgp[2,:] = [258, 39]\n",
    "    imgp[3,:] = [103, 61]\n",
    "    imgp[4,:] = [173, 132]\n",
    "\n",
    "    imgp[5,:] = [18, 196]\n",
    "    imgp[6,:] = [14, 26]\n",
    "    imgp[7,:] = [50, 120]\n",
    "\n",
    "    imgp[8,:] = [155, 10]\n",
    "    imgp[9,:] = [136, 29]\n",
    "\n",
    "    #additional points\n",
    "    imgp[10,:] = [254, 141]\n",
    "    imgp[11,:] = [62, 46]\n",
    "    imgp[12,:] = [16, 127]\n",
    "    imgp[13,:] = [224, 27]\n",
    "    \n",
    "    return objp, imgp\n"
   ]
  },
  {
   "attachments": {},
   "cell_type": "markdown",
   "metadata": {},
   "source": [
    "Definiziamo poi una funzione che stampa sull'immagine i punti che abbiamo definito prima nella funzione define_points()"
   ]
  },
  {
   "cell_type": "code",
   "execution_count": 4,
   "metadata": {},
   "outputs": [],
   "source": [
    "def show_points(imgp):\n",
    "    # Let's show the selected points \n",
    "    img = cv2.imread(\"image_to_cal.png\")\n",
    "    img_to_show = img.copy()\n",
    "    for p in imgp:\n",
    "        img_to_show = cv2.circle(img_to_show, p.astype(np.int32), 3, (255, 0, 0) )\n",
    "\n",
    "    cv2.imshow(\"img\", img_to_show)\n",
    "    cv2.waitKey(0)\n",
    "    cv2.destroyAllWindows()    "
   ]
  },
  {
   "attachments": {},
   "cell_type": "markdown",
   "metadata": {},
   "source": [
    "Carichiamo quindi l'immagine e stampiamo tutto a schermo"
   ]
  },
  {
   "cell_type": "code",
   "execution_count": 5,
   "metadata": {},
   "outputs": [],
   "source": [
    "img = cv2.imread(\"image_to_cal.png\")\n",
    "objp, imgp = define_Points()\n",
    "show_points(imgp)"
   ]
  },
  {
   "attachments": {},
   "cell_type": "markdown",
   "metadata": {},
   "source": [
    "La variabile objp avrà quindi all'interno le coordinate nello spazio in una matrice 14,3 e che corrisponde alla matrice che contiene i punti tridimensionali e imgp è la matrice che contiene gli stessi punti ma nello spazio 2D dell'immagine"
   ]
  },
  {
   "attachments": {},
   "cell_type": "markdown",
   "metadata": {},
   "source": [
    "Iniziamo quindi i calcoli per trovare la matrice P\n",
    "\n",
    "Per ognuna della coppia 2D-3D aggiungiamo la dimensione w e cerchiamo la soluzione"
   ]
  },
  {
   "attachments": {},
   "cell_type": "markdown",
   "metadata": {},
   "source": [
    "Il primo passo è aggiungere la dimensione w ai due insiemi di vettori"
   ]
  },
  {
   "cell_type": "code",
   "execution_count": 16,
   "metadata": {},
   "outputs": [
    {
     "name": "stdout",
     "output_type": "stream",
     "text": [
      "[103. 254.   1.]\n",
      "[252. 212.   1.]\n",
      "[258.  39.   1.]\n",
      "[103.  61.   1.]\n",
      "[173. 132.   1.]\n",
      "[ 18. 196.   1.]\n",
      "[14. 26.  1.]\n",
      "[ 50. 120.   1.]\n",
      "[155.  10.   1.]\n",
      "[136.  29.   1.]\n",
      "[254. 141.   1.]\n",
      "[62. 46.  1.]\n",
      "[ 16. 127.   1.]\n",
      "[224.  27.   1.]\n",
      "[0. 0. 0. 1.]\n",
      "[7. 0. 0. 1.]\n",
      "[7. 0. 7. 1.]\n",
      "[0. 0. 7. 1.]\n",
      "[3. 0. 4. 1.]\n",
      "[0. 7. 0. 1.]\n",
      "[0. 7. 7. 1.]\n",
      "[0. 4. 4. 1.]\n",
      "[7. 7. 7. 1.]\n",
      "[4. 4. 7. 1.]\n",
      "[7. 0. 3. 1.]\n",
      "[0. 3. 7. 1.]\n",
      "[0. 7. 3. 1.]\n",
      "[7. 2. 7. 1.]\n"
     ]
    }
   ],
   "source": [
    "for i in range(0, len(imgp)):\n",
    "    _2d=imgp[i]\n",
    "    _2d= np.append(arr= _2d, values= 1)\n",
    "    #print(_2d)\n",
    "\n",
    "for i in range (0, len(objp)):\n",
    "    _3d=objp[i]\n",
    "    _3d= np.append(arr= _3d, values= 1)\n",
    "    #print(_3d)"
   ]
  },
  {
   "cell_type": "code",
   "execution_count": null,
   "metadata": {},
   "outputs": [],
   "source": []
  }
 ],
 "metadata": {
  "kernelspec": {
   "display_name": "Python 3",
   "language": "python",
   "name": "python3"
  },
  "language_info": {
   "codemirror_mode": {
    "name": "ipython",
    "version": 3
   },
   "file_extension": ".py",
   "mimetype": "text/x-python",
   "name": "python",
   "nbconvert_exporter": "python",
   "pygments_lexer": "ipython3",
   "version": "3.10.10"
  },
  "orig_nbformat": 4
 },
 "nbformat": 4,
 "nbformat_minor": 2
}
