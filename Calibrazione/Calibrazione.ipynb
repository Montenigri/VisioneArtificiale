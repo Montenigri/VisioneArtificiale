{
 "cells": [
  {
   "attachments": {},
   "cell_type": "markdown",
   "metadata": {},
   "source": [
    "Il metodo scelto per l'assignment 1 è stato il metodo di Zhang [(Link alla pagina wikipedia)](https://en.wikipedia.org/wiki/Camera_resectioning#:~:text=Zhang%27s%20method%5Bedit%5D) "
   ]
  },
  {
   "attachments": {},
   "cell_type": "markdown",
   "metadata": {},
   "source": [
    "I passaggi da effettuare sono\n",
    "- Corrispondenza punti 2D e 3D\n",
    "- Trovare la matrice P\n",
    "- Trovare K che è la matrice R della fattorizzazione precedente\n",
    "- Mentre la matrice R di rotazione (da non confondere con la R di RQ) sarà la matrice Q di RQ\n",
    "- Trovare t vettore colonna della traslazione"
   ]
  },
  {
   "cell_type": "code",
   "execution_count": null,
   "metadata": {},
   "outputs": [],
   "source": [
    "import Calibrate as cb\n",
    "import numpy as np\n",
    "import cv2"
   ]
  },
  {
   "attachments": {},
   "cell_type": "markdown",
   "metadata": {},
   "source": [
    "Chiamo la funzione per calibrare la videocamera con 4 foto"
   ]
  },
  {
   "cell_type": "code",
   "execution_count": null,
   "metadata": {},
   "outputs": [],
   "source": [
    "CameraIntrinsic4, CameraIntrinsicCalcolataDaCV24, Errore4 = cb.calibra(4)\n",
    "\n",
    "print(\"K calcolata: \\n\", CameraIntrinsic4)\n",
    "print(\"CalibrateCamera: \\n\", CameraIntrinsicCalcolataDaCV24)\n",
    "print(\"Errore: \\n\",Errore4)"
   ]
  },
  {
   "attachments": {},
   "cell_type": "markdown",
   "metadata": {},
   "source": [
    "Chiamo la funzione per calibrare la videocamera con 8 foto"
   ]
  },
  {
   "cell_type": "code",
   "execution_count": null,
   "metadata": {},
   "outputs": [],
   "source": [
    "CameraIntrinsic8, CameraIntrinsicCalcolataDaCV28, Errore8 = cb.calibra(8)\n",
    "\n",
    "print(\"K calcolata: \\n\", CameraIntrinsic8)\n",
    "print(\"CalibrateCamera: \\n\", CameraIntrinsicCalcolataDaCV28)\n",
    "print(\"Errore: \\n\",Errore8)"
   ]
  },
  {
   "attachments": {},
   "cell_type": "markdown",
   "metadata": {},
   "source": [
    "Chiamo la funzione per calibrare la videocamera con 16 foto"
   ]
  },
  {
   "cell_type": "code",
   "execution_count": null,
   "metadata": {},
   "outputs": [],
   "source": [
    "CameraIntrinsic16, CameraIntrinsicCalcolataDaCV216, Errore16 = cb.calibra(16)\n",
    "\n",
    "print(\"K calcolata: \\n\", CameraIntrinsic16)\n",
    "print(\"CalibrateCamera: \\n\", CameraIntrinsicCalcolataDaCV216)\n",
    "print(\"Errore: \\n\",Errore16)"
   ]
  },
  {
   "attachments": {},
   "cell_type": "markdown",
   "metadata": {},
   "source": [
    "Creo le corrispondenze 2d/3d dei punti nel pavimento del laboratorio"
   ]
  },
  {
   "cell_type": "code",
   "execution_count": null,
   "metadata": {},
   "outputs": [],
   "source": [
    "dueD = np.array([[496,605], [659,341], [481,564], [482,649], [511,560], [512,649] ])\n",
    "treD = np.array([[0,0,0], [-132,-96], [-14.75,21] , [14.75,21], [-14.75,-21], [14.75,-21] ])"
   ]
  },
  {
   "attachments": {},
   "cell_type": "markdown",
   "metadata": {},
   "source": [
    "Definisco un doppio ciclo for, il primo serve per ciclare in un range 0,3 estremi inclusi per dividere il set di immagini in 4 per fare cross validation, il set di validazione sarà dato dal vettore tagliato dalla posizione iesima alla i+1 esima\n",
    "\n"
   ]
  },
  {
   "cell_type": "code",
   "execution_count": null,
   "metadata": {},
   "outputs": [],
   "source": [
    "for i in range (0,4):\n",
    "    multiply = int(len(immagini)/4)\n",
    "    a = int(multiply * i)\n",
    "    b = int(multiply * i +1)\n",
    "    validation = immagini[a : b]\n",
    "    training = [i for i in immagini if i not in validation]\n",
    "    for im in training:\n",
    "        image = cv2.imread(im)\n",
    "        scalagrigi = cv2.cvtColor(image, cv2.COLOR_BGR2GRAY)\n",
    "\n",
    "        ret, angoli = cv2.findChessboardCorners(scalagrigi, scacchiera, cv2.CALIB_CB_ADAPTIVE_THRESH + cv2.CALIB_CB_FAST_CHECK + cv2.CALIB_CB_NORMALIZE_IMAGE)\n",
    "\n",
    "        if ret:\n",
    "            punti3d.append(oggetto3d)\n",
    "            angoli2d = cv2.cornerSubPix(scalagrigi, angoli, (11,11),(-1,-1), criteri)\n",
    "            punti2d.append(angoli2d)\n",
    "            #cal = calibra()\n",
    "            #errori[i] = cv2.calibrateCamera() - cal\n",
    "\n",
    "\n",
    "\n",
    "        cv2.imshow('immagine', image)\n",
    "        cv2.waitKey(0)\n",
    "        cv2.destroyAllWindows()\n",
    " "
   ]
  },
  {
   "attachments": {},
   "cell_type": "markdown",
   "metadata": {},
   "source": [
    "Disegno quindi i punti a terra data l'immagine, la matrice di rotazione, di traslazione e "
   ]
  },
  {
   "cell_type": "code",
   "execution_count": null,
   "metadata": {},
   "outputs": [],
   "source": [
    "def draw_ground(img, R, T, K):\n",
    "    xg = np.arange(-5, 10, 0.5) \n",
    "    yg = np.arange(-5, 10, 0.5) \n",
    "    xx, yy = np.meshgrid(xg, yg)\n",
    "\n",
    "    dim = xx.shape[0]*xx.shape[1]\n",
    "    points = np.zeros((dim,3), np.float32)\n",
    "\n",
    "    xx = xx.reshape(dim)\n",
    "    yy = yy.reshape(dim)\n",
    "\n",
    "    points[:,0] = xx \n",
    "    points[:,1] = yy \n",
    "    points[:,2] = np.zeros((dim))\n",
    "\n",
    "    ground, _ = cv2.projectPoints(points, R, T, K)\n",
    "    ground = np.squeeze(ground).astype(np.int32)\n",
    "\n",
    "    img_to_show_res = img.copy()\n",
    "    for p in ground:\n",
    "        img_to_show_res = cv2.circle(img_to_show_res, p, 3, (255, 0, 0) )\n",
    "\n",
    "    cv2.imshow(\"ground\", img_to_show_res)\n",
    "    cv2.waitKey(1)\n",
    "    cv2.destroyAllWindows()\n",
    "    \n"
   ]
  },
  {
   "attachments": {},
   "cell_type": "markdown",
   "metadata": {},
   "source": [
    "I punti rilevati in laboratorio si trovano alle coordinate espresse in cm per lo spazio 3d e pixel per lo spazio 2d:\n",
    "| Immagine | X3D  | Y3D  | X2D | Y2D |\n",
    "| -------- | ---- | ---- | --- | --- |\n",
    "| 125956   | -200 | 100  | 774 | 338 |\n",
    "| 13411    | -200 | 0    | 621 | 336 |\n",
    "| 13444    | -200 | -100 | 470 | 332 |\n",
    "| 13519    | -100 | -100 | 438 | 400 |\n",
    "| 13553    | -100 | 0    | 614 | 402 |\n",
    "| 13631    | -100 | 100  | 790 | 404 |\n",
    "| 1370     | 0    | -100 | 396 | 485 |\n",
    "| 13746    | 0    | 0    | 607 | 492 |\n",
    "| 13815    | 0    | 100  | 817 | 495 |\n",
    "| 13845    | 100  | -100 | 340 | 615 |\n",
    "| 13913    | 100  | 0    | 595 | 622 |\n",
    "| 13947    | 100  | 100  | 858 | 628 |\n",
    "| 131522   | 100  | -200 | 120 | 594 |\n",
    "| 131546   | 0    | -200 | 208 | 473 |\n",
    "| 13163    | -100 | -200 | 276 | 393 |\n",
    "| 131647   | -300 | 0    | 626 | 288 |\n"
   ]
  },
  {
   "cell_type": "code",
   "execution_count": null,
   "metadata": {},
   "outputs": [],
   "source": [
    "_3d = np.array([ [-200,100], [-200,0], [-200,-100], [-100,-100], [-100,0], [-100,100] ,[0,-100], [0,0], [0,100], [100,-100], [100,0], [100,100], [100,-200], [0,-200], [-100,-200], [-300,0]])\n",
    "_2d = np.array([ [774,338], [621,336], [470,332], [438,400], [614,402], [790,404], [396,485], [607,492], [817,495], [340,615], [595,622], [858,628], [120,594], [208,473], [276,393], [626,288]])\n",
    "\n",
    "\n",
    "   "
   ]
  }
 ],
 "metadata": {
  "kernelspec": {
   "display_name": "Python 3",
   "language": "python",
   "name": "python3"
  },
  "language_info": {
   "codemirror_mode": {
    "name": "ipython",
    "version": 3
   },
   "file_extension": ".py",
   "mimetype": "text/x-python",
   "name": "python",
   "nbconvert_exporter": "python",
   "pygments_lexer": "ipython3",
   "version": "3.10.10"
  },
  "orig_nbformat": 4
 },
 "nbformat": 4,
 "nbformat_minor": 2
}
