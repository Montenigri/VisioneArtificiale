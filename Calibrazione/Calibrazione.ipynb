{
 "cells": [
  {
   "attachments": {},
   "cell_type": "markdown",
   "metadata": {},
   "source": [
    "Il metodo scelto per l'assignment 1 è stato il metodo di Zhang [(Link alla pagina wikipedia)](https://en.wikipedia.org/wiki/Camera_resectioning#:~:text=Zhang%27s%20method%5Bedit%5D) "
   ]
  },
  {
   "attachments": {},
   "cell_type": "markdown",
   "metadata": {},
   "source": [
    "I passaggi da effettuare sono\n",
    "- Corrispondenza punti 2D e 3D\n",
    "- Trovare la matrice P\n",
    "- Usare fattorizzazione RQ (Variante della fattorizzazione QR)\n",
    "- Trovare K che è la matrice R della fattorizzazione precedente\n",
    "- Mentre la matrice R di rotazione (da non confondere con la R di RQ) sarà la matrice Q di RQ\n",
    "- Trovare t vettore colonna della traslazione"
   ]
  },
  {
   "attachments": {},
   "cell_type": "markdown",
   "metadata": {},
   "source": [
    "Import di tutte le librerie necessarie\n",
    "Usiamo numpy per la gestione delle matrici generate dalle immagini e math per fare i calcoli, glob ci aiuta a raccogliere tutti i file di un tipo "
   ]
  },
  {
   "cell_type": "code",
   "execution_count": 1,
   "metadata": {},
   "outputs": [],
   "source": [
    "import numpy as np\n",
    "import math\n",
    "import cv2\n",
    "import glob\n",
    "import os\n"
   ]
  },
  {
   "attachments": {},
   "cell_type": "markdown",
   "metadata": {},
   "source": [
    "Definiamo la dimensioni della scacchiera e i criteri per fermare l'iterazione della rifinitura dei contorni e dei punti interni della scacchiera"
   ]
  },
  {
   "cell_type": "code",
   "execution_count": 19,
   "metadata": {},
   "outputs": [],
   "source": [
    "scacchiera = (7,9)\n",
    "criteri = (cv2.TERM_CRITERIA_EPS + cv2.TERM_CRITERIA_MAX_ITER, 30, 0.001)"
   ]
  },
  {
   "attachments": {},
   "cell_type": "markdown",
   "metadata": {},
   "source": [
    "Definiamo quindi degli array per i punti nello spazio e nel piano ed inizializziamo i punti nello spazio a 0, "
   ]
  },
  {
   "cell_type": "code",
   "execution_count": null,
   "metadata": {},
   "outputs": [],
   "source": [
    "punti3d  = []\n",
    "punti2d = [] \n",
    "oggetto3d = np.zeros((1, scacchiera[0] * scacchiera[1], 3), np.float32)\n",
    "oggetto3d[0,:,:2] = np.mgrid[0:scacchiera[0], 0:scacchiera[1]].T.reshape(-1, 2)\n",
    "prev_img_shape = None\n",
    "\n",
    "errori = []"
   ]
  },
  {
   "attachments": {},
   "cell_type": "markdown",
   "metadata": {},
   "source": [
    "Raccogliamo tutte le immagini di tipo jpg presenti nella directory immagini"
   ]
  },
  {
   "cell_type": "code",
   "execution_count": 4,
   "metadata": {},
   "outputs": [],
   "source": [
    "immagini = glob.glob('/immagini/*.jpg')"
   ]
  },
  {
   "attachments": {},
   "cell_type": "markdown",
   "metadata": {},
   "source": [
    "Creo la funzione custom calibrate camera"
   ]
  },
  {
   "cell_type": "code",
   "execution_count": 20,
   "metadata": {},
   "outputs": [],
   "source": []
  },
  {
   "attachments": {},
   "cell_type": "markdown",
   "metadata": {},
   "source": [
    "Definisco un doppio ciclo for, il primo serve per ciclare in un range 0,3 estremi inclusi per dividere il set di immagini in 4 per fare cross validation, il set di validazione sarà dato dal vettore tagliato dalla posizione iesima alla i+1 esima\n",
    "\n"
   ]
  },
  {
   "cell_type": "code",
   "execution_count": null,
   "metadata": {},
   "outputs": [],
   "source": [
    "for i in range (0,4):\n",
    "    validation = immagini[i,i+1]\n",
    "    training = [i for i in immagini if i not in validation]\n",
    "    for im in training:\n",
    "        image = cv2.imread(im)\n",
    "        scalagrigi = cv2.cvtColor(im, cv2.COLOR_BGR2GRAY)\n",
    "\n",
    "        ret, angoli = cv2.findChessboardCorners(scalagrigi, scacchiera, cv2.CALIB_CB_ADAPTIVE_THRESH + cv2.CALIB_CB_FAST_CHECK + cv2.CALIB_CB_NORMALIZE_IMAGE)\n",
    "\n",
    "        if ret == True:\n",
    "            punti3d.append(oggetto3d)\n",
    "            angoli2d = cv2.cornerSubPix(scalagrigi, angoli, (11,11),(-1,-1), criteria)\n",
    "            punti2d.append(angoli2d)\n",
    "\n",
    "            immagine = cv2.drawChessboardCorners(im, scacchiera, angoli2d, ret)\n",
    "\n",
    "        cv2.imshow('immagine', im)\n",
    "        cv2.waitkey(0)\n",
    "    cv2.destroyAllWindows()\n",
    "    #errori[i] = cv2.calibrateCamera() - calibra()\n",
    " "
   ]
  }
 ],
 "metadata": {
  "kernelspec": {
   "display_name": "Python 3",
   "language": "python",
   "name": "python3"
  },
  "language_info": {
   "codemirror_mode": {
    "name": "ipython",
    "version": 3
   },
   "file_extension": ".py",
   "mimetype": "text/x-python",
   "name": "python",
   "nbconvert_exporter": "python",
   "pygments_lexer": "ipython3",
   "version": "3.10.10"
  },
  "orig_nbformat": 4
 },
 "nbformat": 4,
 "nbformat_minor": 2
}
